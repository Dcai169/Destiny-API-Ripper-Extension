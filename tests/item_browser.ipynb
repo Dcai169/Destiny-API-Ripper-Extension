{
 "metadata": {
  "language_info": {
   "codemirror_mode": {
    "name": "ipython",
    "version": 3
   },
   "file_extension": ".py",
   "mimetype": "text/x-python",
   "name": "python",
   "nbconvert_exporter": "python",
   "pygments_lexer": "ipython3",
   "version": "3.9.1-final"
  },
  "orig_nbformat": 2,
  "kernelspec": {
   "name": "python3",
   "display_name": "Python 3.9.1 64-bit",
   "metadata": {
    "interpreter": {
     "hash": "ac59ebe37160ed0dfa835113d9b8498d9f09ceb179beaac4002f036b9467c963"
    }
   }
  }
 },
 "nbformat": 4,
 "nbformat_minor": 2,
 "cells": [
  {
   "cell_type": "code",
   "execution_count": null,
   "metadata": {},
   "outputs": [],
   "source": [
    "from json import loads, dumps\n",
    "# from requests import get"
   ]
  },
  {
   "cell_type": "code",
   "execution_count": null,
   "metadata": {},
   "outputs": [],
   "source": [
    "f = loads(open('manifestItems.json').read())\n",
    "len(f)"
   ]
  },
  {
   "cell_type": "code",
   "execution_count": null,
   "metadata": {
    "tags": []
   },
   "outputs": [],
   "source": [
    "for i in f:\n",
    "    print(f[i]['displayProperties']['name'])\n"
   ]
  },
  {
   "source": [
    "Item Type\n",
    "\n",
    "1: Currencies\n",
    "\n",
    "2: Armor\n",
    "\n",
    "3: Non-Class specific items\n",
    "\n",
    "19: Ornaments\n",
    "\n",
    "22: Sparrows\n",
    "\n",
    "24: Ghost Shells\n",
    "\n"
   ],
   "cell_type": "markdown",
   "metadata": {}
  },
  {
   "cell_type": "code",
   "execution_count": null,
   "metadata": {},
   "outputs": [],
   "source": [
    "items = [f[i] for i in f if f[i]['hash'] != 4248210736 if 'itemType' in f[i] and f[i]['itemType'] in [2, 22, 24]] + [f[i] for i in f if 'defaultDamageType' in f[i] and f[i]['defaultDamageType'] > 0] + [f[i] for i in f if 'itemType' in f[i] and 'itemSubType' in f[i] and f[i]['itemType'] == 19 and f[i]['itemSubType'] in [20, 21]]"
   ]
  },
  {
   "cell_type": "code",
   "execution_count": null,
   "metadata": {},
   "outputs": [],
   "source": [
    "print(len(items))\n",
    "items = sorted(items, key=lambda item: item['index'])\n",
    "for item in items:\n",
    "    print(item['hash'], item['displayProperties']['name'], item['itemType'])"
   ]
  },
  {
   "cell_type": "code",
   "execution_count": null,
   "metadata": {},
   "outputs": [],
   "source": [
    "with open('validItems.json', 'w') as f:\n",
    "    f.write(dumps({item['hash']: item for items in items}))"
   ]
  },
  {
   "cell_type": "code",
   "execution_count": null,
   "metadata": {
    "tags": []
   },
   "outputs": [],
   "source": [
    "items = None\n",
    "with open('itemDefinitions.json', 'r') as f:\n",
    "    items = loads(f.read())"
   ]
  },
  {
   "cell_type": "code",
   "execution_count": null,
   "metadata": {},
   "outputs": [],
   "source": [
    "items.keys()"
   ]
  },
  {
   "cell_type": "code",
   "execution_count": null,
   "metadata": {},
   "outputs": [],
   "source": [
    "for item in items:\n",
    "    print(item['hash'], item['displayProperties']['name'], 'https://bungie.net' + (item['displayProperties']['icon'] if 'hasIcon' in item['displayProperties'] else ''))"
   ]
  },
  {
   "cell_type": "code",
   "execution_count": null,
   "metadata": {},
   "outputs": [],
   "source": []
  }
 ]
}